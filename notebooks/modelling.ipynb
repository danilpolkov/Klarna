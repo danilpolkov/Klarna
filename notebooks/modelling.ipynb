{
 "cells": [
  {
   "cell_type": "code",
   "execution_count": 1,
   "metadata": {},
   "outputs": [
    {
     "name": "stderr",
     "output_type": "stream",
     "text": [
      "/Users/danil/Documents/github/Klarna/env/lib/python3.7/site-packages/lightfm/_lightfm_fast.py:9: UserWarning: LightFM was compiled without OpenMP support. Only a single thread will be used.\n",
      "  warnings.warn('LightFM was compiled without OpenMP support. '\n"
     ]
    }
   ],
   "source": [
    "import numpy as np\n",
    "import pandas as pd\n",
    "from lightfm import LightFM\n",
    "from scipy.sparse import coo_matrix\n",
    "import itertools\n",
    "from datetime import datetime\n",
    "\n",
    "from pathlib import Path\n",
    "import sys\n",
    "\n",
    "PATH = '/Users/danil/Documents/github/Klarna/'\n",
    "sys.path.append(str(PATH))"
   ]
  },
  {
   "cell_type": "code",
   "execution_count": 71,
   "metadata": {},
   "outputs": [],
   "source": [
    "from src.utils import random_search, mDCG \n",
    "from src.pickle_utils import save_to_pickle"
   ]
  },
  {
   "cell_type": "code",
   "execution_count": 3,
   "metadata": {},
   "outputs": [
    {
     "name": "stdout",
     "output_type": "stream",
     "text": [
      "CPU times: user 954 ms, sys: 196 ms, total: 1.15 s\n",
      "Wall time: 1.22 s\n"
     ]
    }
   ],
   "source": [
    "%%time\n",
    "\n",
    "events = pd.read_csv(PATH + 'data/raw/events.csv')"
   ]
  },
  {
   "cell_type": "code",
   "execution_count": 4,
   "metadata": {},
   "outputs": [
    {
     "name": "stdout",
     "output_type": "stream",
     "text": [
      "(2756101, 5)\n"
     ]
    },
    {
     "data": {
      "text/html": [
       "<div>\n",
       "<style scoped>\n",
       "    .dataframe tbody tr th:only-of-type {\n",
       "        vertical-align: middle;\n",
       "    }\n",
       "\n",
       "    .dataframe tbody tr th {\n",
       "        vertical-align: top;\n",
       "    }\n",
       "\n",
       "    .dataframe thead th {\n",
       "        text-align: right;\n",
       "    }\n",
       "</style>\n",
       "<table border=\"1\" class=\"dataframe\">\n",
       "  <thead>\n",
       "    <tr style=\"text-align: right;\">\n",
       "      <th></th>\n",
       "      <th>timestamp</th>\n",
       "      <th>visitorid</th>\n",
       "      <th>event</th>\n",
       "      <th>itemid</th>\n",
       "      <th>transactionid</th>\n",
       "    </tr>\n",
       "  </thead>\n",
       "  <tbody>\n",
       "    <tr>\n",
       "      <th>0</th>\n",
       "      <td>1433221332117</td>\n",
       "      <td>257597</td>\n",
       "      <td>view</td>\n",
       "      <td>355908</td>\n",
       "      <td>NaN</td>\n",
       "    </tr>\n",
       "    <tr>\n",
       "      <th>1</th>\n",
       "      <td>1433224214164</td>\n",
       "      <td>992329</td>\n",
       "      <td>view</td>\n",
       "      <td>248676</td>\n",
       "      <td>NaN</td>\n",
       "    </tr>\n",
       "    <tr>\n",
       "      <th>2</th>\n",
       "      <td>1433221999827</td>\n",
       "      <td>111016</td>\n",
       "      <td>view</td>\n",
       "      <td>318965</td>\n",
       "      <td>NaN</td>\n",
       "    </tr>\n",
       "    <tr>\n",
       "      <th>3</th>\n",
       "      <td>1433221955914</td>\n",
       "      <td>483717</td>\n",
       "      <td>view</td>\n",
       "      <td>253185</td>\n",
       "      <td>NaN</td>\n",
       "    </tr>\n",
       "    <tr>\n",
       "      <th>4</th>\n",
       "      <td>1433221337106</td>\n",
       "      <td>951259</td>\n",
       "      <td>view</td>\n",
       "      <td>367447</td>\n",
       "      <td>NaN</td>\n",
       "    </tr>\n",
       "  </tbody>\n",
       "</table>\n",
       "</div>"
      ],
      "text/plain": [
       "       timestamp  visitorid event  itemid  transactionid\n",
       "0  1433221332117     257597  view  355908            NaN\n",
       "1  1433224214164     992329  view  248676            NaN\n",
       "2  1433221999827     111016  view  318965            NaN\n",
       "3  1433221955914     483717  view  253185            NaN\n",
       "4  1433221337106     951259  view  367447            NaN"
      ]
     },
     "execution_count": 4,
     "metadata": {},
     "output_type": "execute_result"
    }
   ],
   "source": [
    "print(events.shape)\n",
    "events.head()"
   ]
  },
  {
   "cell_type": "markdown",
   "metadata": {},
   "source": [
    "convert timestamp to datetime format "
   ]
  },
  {
   "cell_type": "code",
   "execution_count": 5,
   "metadata": {},
   "outputs": [],
   "source": [
    "events['timestamp'] = events['timestamp'].apply(lambda x: datetime.fromtimestamp(x//1000.0))"
   ]
  },
  {
   "cell_type": "markdown",
   "metadata": {},
   "source": [
    "cut date that was proposed in task"
   ]
  },
  {
   "cell_type": "code",
   "execution_count": 6,
   "metadata": {},
   "outputs": [
    {
     "name": "stdout",
     "output_type": "stream",
     "text": [
      "(2448866, 5)\n"
     ]
    }
   ],
   "source": [
    "events = events[events['timestamp'] <= '2015-09-01']\n",
    "print(events.shape)"
   ]
  },
  {
   "cell_type": "markdown",
   "metadata": {},
   "source": [
    "# check dataframe with predictions"
   ]
  },
  {
   "cell_type": "code",
   "execution_count": 7,
   "metadata": {
    "scrolled": true
   },
   "outputs": [
    {
     "name": "stdout",
     "output_type": "stream",
     "text": [
      "(174956, 101)\n"
     ]
    },
    {
     "data": {
      "text/html": [
       "<div>\n",
       "<style scoped>\n",
       "    .dataframe tbody tr th:only-of-type {\n",
       "        vertical-align: middle;\n",
       "    }\n",
       "\n",
       "    .dataframe tbody tr th {\n",
       "        vertical-align: top;\n",
       "    }\n",
       "\n",
       "    .dataframe thead th {\n",
       "        text-align: right;\n",
       "    }\n",
       "</style>\n",
       "<table border=\"1\" class=\"dataframe\">\n",
       "  <thead>\n",
       "    <tr style=\"text-align: right;\">\n",
       "      <th></th>\n",
       "      <th>visitorid</th>\n",
       "      <th>item_0</th>\n",
       "      <th>item_1</th>\n",
       "      <th>item_2</th>\n",
       "      <th>item_3</th>\n",
       "      <th>item_4</th>\n",
       "      <th>item_5</th>\n",
       "      <th>item_6</th>\n",
       "      <th>item_7</th>\n",
       "      <th>item_8</th>\n",
       "      <th>...</th>\n",
       "      <th>item_90</th>\n",
       "      <th>item_91</th>\n",
       "      <th>item_92</th>\n",
       "      <th>item_93</th>\n",
       "      <th>item_94</th>\n",
       "      <th>item_95</th>\n",
       "      <th>item_96</th>\n",
       "      <th>item_97</th>\n",
       "      <th>item_98</th>\n",
       "      <th>item_99</th>\n",
       "    </tr>\n",
       "  </thead>\n",
       "  <tbody>\n",
       "    <tr>\n",
       "      <th>0</th>\n",
       "      <td>593408</td>\n",
       "      <td>NaN</td>\n",
       "      <td>NaN</td>\n",
       "      <td>NaN</td>\n",
       "      <td>NaN</td>\n",
       "      <td>NaN</td>\n",
       "      <td>NaN</td>\n",
       "      <td>NaN</td>\n",
       "      <td>NaN</td>\n",
       "      <td>NaN</td>\n",
       "      <td>...</td>\n",
       "      <td>NaN</td>\n",
       "      <td>NaN</td>\n",
       "      <td>NaN</td>\n",
       "      <td>NaN</td>\n",
       "      <td>NaN</td>\n",
       "      <td>NaN</td>\n",
       "      <td>NaN</td>\n",
       "      <td>NaN</td>\n",
       "      <td>NaN</td>\n",
       "      <td>NaN</td>\n",
       "    </tr>\n",
       "    <tr>\n",
       "      <th>1</th>\n",
       "      <td>71998</td>\n",
       "      <td>NaN</td>\n",
       "      <td>NaN</td>\n",
       "      <td>NaN</td>\n",
       "      <td>NaN</td>\n",
       "      <td>NaN</td>\n",
       "      <td>NaN</td>\n",
       "      <td>NaN</td>\n",
       "      <td>NaN</td>\n",
       "      <td>NaN</td>\n",
       "      <td>...</td>\n",
       "      <td>NaN</td>\n",
       "      <td>NaN</td>\n",
       "      <td>NaN</td>\n",
       "      <td>NaN</td>\n",
       "      <td>NaN</td>\n",
       "      <td>NaN</td>\n",
       "      <td>NaN</td>\n",
       "      <td>NaN</td>\n",
       "      <td>NaN</td>\n",
       "      <td>NaN</td>\n",
       "    </tr>\n",
       "    <tr>\n",
       "      <th>2</th>\n",
       "      <td>1403739</td>\n",
       "      <td>NaN</td>\n",
       "      <td>NaN</td>\n",
       "      <td>NaN</td>\n",
       "      <td>NaN</td>\n",
       "      <td>NaN</td>\n",
       "      <td>NaN</td>\n",
       "      <td>NaN</td>\n",
       "      <td>NaN</td>\n",
       "      <td>NaN</td>\n",
       "      <td>...</td>\n",
       "      <td>NaN</td>\n",
       "      <td>NaN</td>\n",
       "      <td>NaN</td>\n",
       "      <td>NaN</td>\n",
       "      <td>NaN</td>\n",
       "      <td>NaN</td>\n",
       "      <td>NaN</td>\n",
       "      <td>NaN</td>\n",
       "      <td>NaN</td>\n",
       "      <td>NaN</td>\n",
       "    </tr>\n",
       "    <tr>\n",
       "      <th>3</th>\n",
       "      <td>693797</td>\n",
       "      <td>NaN</td>\n",
       "      <td>NaN</td>\n",
       "      <td>NaN</td>\n",
       "      <td>NaN</td>\n",
       "      <td>NaN</td>\n",
       "      <td>NaN</td>\n",
       "      <td>NaN</td>\n",
       "      <td>NaN</td>\n",
       "      <td>NaN</td>\n",
       "      <td>...</td>\n",
       "      <td>NaN</td>\n",
       "      <td>NaN</td>\n",
       "      <td>NaN</td>\n",
       "      <td>NaN</td>\n",
       "      <td>NaN</td>\n",
       "      <td>NaN</td>\n",
       "      <td>NaN</td>\n",
       "      <td>NaN</td>\n",
       "      <td>NaN</td>\n",
       "      <td>NaN</td>\n",
       "    </tr>\n",
       "    <tr>\n",
       "      <th>4</th>\n",
       "      <td>1244757</td>\n",
       "      <td>NaN</td>\n",
       "      <td>NaN</td>\n",
       "      <td>NaN</td>\n",
       "      <td>NaN</td>\n",
       "      <td>NaN</td>\n",
       "      <td>NaN</td>\n",
       "      <td>NaN</td>\n",
       "      <td>NaN</td>\n",
       "      <td>NaN</td>\n",
       "      <td>...</td>\n",
       "      <td>NaN</td>\n",
       "      <td>NaN</td>\n",
       "      <td>NaN</td>\n",
       "      <td>NaN</td>\n",
       "      <td>NaN</td>\n",
       "      <td>NaN</td>\n",
       "      <td>NaN</td>\n",
       "      <td>NaN</td>\n",
       "      <td>NaN</td>\n",
       "      <td>NaN</td>\n",
       "    </tr>\n",
       "  </tbody>\n",
       "</table>\n",
       "<p>5 rows × 101 columns</p>\n",
       "</div>"
      ],
      "text/plain": [
       "   visitorid  item_0  item_1  item_2  item_3  item_4  item_5  item_6  item_7  \\\n",
       "0     593408     NaN     NaN     NaN     NaN     NaN     NaN     NaN     NaN   \n",
       "1      71998     NaN     NaN     NaN     NaN     NaN     NaN     NaN     NaN   \n",
       "2    1403739     NaN     NaN     NaN     NaN     NaN     NaN     NaN     NaN   \n",
       "3     693797     NaN     NaN     NaN     NaN     NaN     NaN     NaN     NaN   \n",
       "4    1244757     NaN     NaN     NaN     NaN     NaN     NaN     NaN     NaN   \n",
       "\n",
       "   item_8  ...  item_90  item_91  item_92  item_93  item_94  item_95  item_96  \\\n",
       "0     NaN  ...      NaN      NaN      NaN      NaN      NaN      NaN      NaN   \n",
       "1     NaN  ...      NaN      NaN      NaN      NaN      NaN      NaN      NaN   \n",
       "2     NaN  ...      NaN      NaN      NaN      NaN      NaN      NaN      NaN   \n",
       "3     NaN  ...      NaN      NaN      NaN      NaN      NaN      NaN      NaN   \n",
       "4     NaN  ...      NaN      NaN      NaN      NaN      NaN      NaN      NaN   \n",
       "\n",
       "   item_97  item_98  item_99  \n",
       "0      NaN      NaN      NaN  \n",
       "1      NaN      NaN      NaN  \n",
       "2      NaN      NaN      NaN  \n",
       "3      NaN      NaN      NaN  \n",
       "4      NaN      NaN      NaN  \n",
       "\n",
       "[5 rows x 101 columns]"
      ]
     },
     "execution_count": 7,
     "metadata": {},
     "output_type": "execute_result"
    }
   ],
   "source": [
    "pred = pd.read_csv(PATH + 'data/raw/predictions.csv')\n",
    "print(pred.shape)\n",
    "pred.head()"
   ]
  },
  {
   "cell_type": "markdown",
   "metadata": {},
   "source": [
    "check number of cold users"
   ]
  },
  {
   "cell_type": "code",
   "execution_count": 8,
   "metadata": {},
   "outputs": [],
   "source": [
    "users_to_pred = set(pred['visitorid'])\n",
    "users_with_hist = set(events['visitorid'])\n",
    "\n",
    "intersec = users_to_pred.intersection(users_with_hist)"
   ]
  },
  {
   "cell_type": "code",
   "execution_count": 9,
   "metadata": {},
   "outputs": [
    {
     "name": "stdout",
     "output_type": "stream",
     "text": [
      "users with hist: 17018\n",
      "share: 0.09727017078579757\n"
     ]
    }
   ],
   "source": [
    "print('users with hist:', len(intersec))\n",
    "print('share:', len(intersec)/pred.shape[0])"
   ]
  },
  {
   "cell_type": "markdown",
   "metadata": {},
   "source": [
    "oh)) we know history only for less than 10% of users\n",
    "\n",
    "what means a lot of cold start users"
   ]
  },
  {
   "cell_type": "markdown",
   "metadata": {},
   "source": [
    "# metric"
   ]
  },
  {
   "cell_type": "markdown",
   "metadata": {},
   "source": [
    "DCG - takse into account relevance of recommended item and position of this item.\n",
    "\n",
    "I will use modified ndcg metric because I want to take into account that most relevant items would be at the beginning of recom list and items that more likely to be bouhgt should take first position"
   ]
  },
  {
   "cell_type": "markdown",
   "metadata": {},
   "source": [
    "convert events to scores"
   ]
  },
  {
   "cell_type": "code",
   "execution_count": 10,
   "metadata": {},
   "outputs": [],
   "source": [
    "scores = {'view': 1,\n",
    "          'addtocart': 2,\n",
    "          'transaction': 3}\n",
    "\n",
    "events['event'] = events['event'].replace(scores)"
   ]
  },
  {
   "cell_type": "markdown",
   "metadata": {},
   "source": [
    "# train/test split"
   ]
  },
  {
   "cell_type": "markdown",
   "metadata": {},
   "source": [
    "To split dataset to train and test I will cut data by datetime value and tran on data before time T and validate on date after time T.\n",
    "\n",
    "Another iteresting approach is leave-p-out method, it means train on users hist and predict n last items."
   ]
  },
  {
   "cell_type": "markdown",
   "metadata": {},
   "source": [
    "For faster computation I will cut train data (train from 2015-06-01, till 2015-08-25)\n",
    "and test from 2015-08-25 till 2015-09-01"
   ]
  },
  {
   "cell_type": "code",
   "execution_count": 11,
   "metadata": {},
   "outputs": [],
   "source": [
    "test_df = events[events['timestamp'] >= '2015-08-25']\n",
    "train_df = events[(events['timestamp'] < '2015-08-25')\n",
    "                  & (events['timestamp'] >= '2015-06-01')]"
   ]
  },
  {
   "cell_type": "code",
   "execution_count": 12,
   "metadata": {},
   "outputs": [],
   "source": [
    "test_users = set(test_df['visitorid'])\n",
    "train_users = set(train_df['visitorid'])"
   ]
  },
  {
   "cell_type": "code",
   "execution_count": 13,
   "metadata": {},
   "outputs": [
    {
     "data": {
      "text/plain": [
       "0.009003259686106766"
      ]
     },
     "execution_count": 13,
     "metadata": {},
     "output_type": "execute_result"
    }
   ],
   "source": [
    "len(test_users.intersection(train_users))/len(train_users)"
   ]
  },
  {
   "cell_type": "markdown",
   "metadata": {},
   "source": [
    "This is not very good ratio for testing, better should be as in prediction dataset, 0.09. It make sense for competition but in real life I think this way of separation is pretty good."
   ]
  },
  {
   "cell_type": "markdown",
   "metadata": {},
   "source": [
    "Lets find most popular items, to be more precise, 100 most scored items"
   ]
  },
  {
   "cell_type": "code",
   "execution_count": 14,
   "metadata": {},
   "outputs": [
    {
     "data": {
      "text/html": [
       "<div>\n",
       "<style scoped>\n",
       "    .dataframe tbody tr th:only-of-type {\n",
       "        vertical-align: middle;\n",
       "    }\n",
       "\n",
       "    .dataframe tbody tr th {\n",
       "        vertical-align: top;\n",
       "    }\n",
       "\n",
       "    .dataframe thead th {\n",
       "        text-align: right;\n",
       "    }\n",
       "</style>\n",
       "<table border=\"1\" class=\"dataframe\">\n",
       "  <thead>\n",
       "    <tr style=\"text-align: right;\">\n",
       "      <th></th>\n",
       "      <th>itemid</th>\n",
       "      <th>score</th>\n",
       "    </tr>\n",
       "  </thead>\n",
       "  <tbody>\n",
       "    <tr>\n",
       "      <th>191175</th>\n",
       "      <td>461686</td>\n",
       "      <td>2296</td>\n",
       "    </tr>\n",
       "    <tr>\n",
       "      <th>77897</th>\n",
       "      <td>187946</td>\n",
       "      <td>2289</td>\n",
       "    </tr>\n",
       "    <tr>\n",
       "      <th>2195</th>\n",
       "      <td>5411</td>\n",
       "      <td>2071</td>\n",
       "    </tr>\n",
       "    <tr>\n",
       "      <th>90926</th>\n",
       "      <td>219512</td>\n",
       "      <td>1404</td>\n",
       "    </tr>\n",
       "    <tr>\n",
       "      <th>106543</th>\n",
       "      <td>257040</td>\n",
       "      <td>1328</td>\n",
       "    </tr>\n",
       "  </tbody>\n",
       "</table>\n",
       "</div>"
      ],
      "text/plain": [
       "        itemid  score\n",
       "191175  461686   2296\n",
       "77897   187946   2289\n",
       "2195      5411   2071\n",
       "90926   219512   1404\n",
       "106543  257040   1328"
      ]
     },
     "execution_count": 14,
     "metadata": {},
     "output_type": "execute_result"
    }
   ],
   "source": [
    "items_scores = train_df.groupby(['itemid', 'event'])['event'].count().reset_index(name='count')\n",
    "items_scores = items_scores.eval('score = event * count')\n",
    "items_scores = items_scores.groupby('itemid')['score'].sum().reset_index().sort_values('score', ascending = False)\n",
    "\n",
    "items_scores.head()"
   ]
  },
  {
   "cell_type": "code",
   "execution_count": 15,
   "metadata": {},
   "outputs": [],
   "source": [
    "top_rated_items = items_scores[:100]['itemid'].values"
   ]
  },
  {
   "cell_type": "markdown",
   "metadata": {},
   "source": [
    "Lets find latest items"
   ]
  },
  {
   "cell_type": "code",
   "execution_count": 16,
   "metadata": {},
   "outputs": [],
   "source": [
    "latest_items = np.array(events.groupby('visitorid').timestamp.max().sort_values(ascending=False)[:200].index)"
   ]
  },
  {
   "cell_type": "markdown",
   "metadata": {},
   "source": [
    "items_to_recom - short list of items for model scoring"
   ]
  },
  {
   "cell_type": "code",
   "execution_count": 17,
   "metadata": {},
   "outputs": [],
   "source": [
    "items_to_recom = items_scores[:200]['itemid'].values"
   ]
  },
  {
   "cell_type": "markdown",
   "metadata": {},
   "source": [
    "I will remove users with less then 5 interactions, for better performance, but on practice better to test min value of interactios. (I wiould check also 3, 10)"
   ]
  },
  {
   "cell_type": "code",
   "execution_count": 18,
   "metadata": {},
   "outputs": [],
   "source": [
    "users_interactions = train_df['visitorid'].value_counts()\n",
    "\n",
    "active_users = set(users_interactions[users_interactions >= 5].index)\n",
    "\n",
    "train_df = train_df[train_df['visitorid'].isin(active_users)]"
   ]
  },
  {
   "cell_type": "code",
   "execution_count": 19,
   "metadata": {},
   "outputs": [
    {
     "data": {
      "text/plain": [
       "0.037053199508073155"
      ]
     },
     "execution_count": 19,
     "metadata": {},
     "output_type": "execute_result"
    }
   ],
   "source": [
    "len(test_users.intersection(active_users))/len(active_users)"
   ]
  },
  {
   "cell_type": "markdown",
   "metadata": {},
   "source": [
    "# cold users predictions"
   ]
  },
  {
   "cell_type": "markdown",
   "metadata": {},
   "source": [
    "compare few methods for cold start users\n",
    "\n",
    "1. recommend most rated items \n",
    "2. recommend most rated items with shuffling\n",
    "3. recommend latest items\n",
    "4. recommend latest items with shuffling\n",
    "5. mixed 2 best from 1-4"
   ]
  },
  {
   "cell_type": "code",
   "execution_count": 20,
   "metadata": {},
   "outputs": [],
   "source": [
    "cold_test_users = test_users.difference(active_users)\n",
    "warm_test_users = test_users.intersection(active_users)"
   ]
  },
  {
   "cell_type": "code",
   "execution_count": 21,
   "metadata": {},
   "outputs": [],
   "source": [
    "top_rated_items = items_scores[:100]['itemid'].values\n",
    "cold_recoms_most_rated = {}\n",
    "for user in cold_test_users:\n",
    "    cold_recoms_most_rated[user] = tuple(top_rated_items)"
   ]
  },
  {
   "cell_type": "code",
   "execution_count": 22,
   "metadata": {},
   "outputs": [],
   "source": [
    "cold_recoms_most_rated_shuffled = {}\n",
    "for user in cold_test_users:\n",
    "    np.random.shuffle(items_to_recom)\n",
    "    cold_recoms_most_rated_shuffled[user] = tuple(items_to_recom[:100])"
   ]
  },
  {
   "cell_type": "code",
   "execution_count": 23,
   "metadata": {},
   "outputs": [],
   "source": [
    "cold_recoms_latest = {}\n",
    "for user in cold_test_users:\n",
    "    cold_recoms_latest[user] = tuple(latest_items[:100])"
   ]
  },
  {
   "cell_type": "code",
   "execution_count": 24,
   "metadata": {},
   "outputs": [],
   "source": [
    "cold_recoms_latest_shuffled = {}\n",
    "for user in cold_test_users:\n",
    "    np.random.shuffle(latest_items)\n",
    "    cold_recoms_latest_shuffled[user] = tuple(latest_items[:100])"
   ]
  },
  {
   "cell_type": "markdown",
   "metadata": {},
   "source": [
    "# validate cold start users"
   ]
  },
  {
   "cell_type": "markdown",
   "metadata": {},
   "source": [
    "get max score for each item for every user"
   ]
  },
  {
   "cell_type": "code",
   "execution_count": 25,
   "metadata": {},
   "outputs": [],
   "source": [
    "correct_interactions = test_df.groupby(['visitorid', 'itemid'])['event'].max().reset_index()"
   ]
  },
  {
   "cell_type": "code",
   "execution_count": 26,
   "metadata": {},
   "outputs": [
    {
     "data": {
      "text/html": [
       "<div>\n",
       "<style scoped>\n",
       "    .dataframe tbody tr th:only-of-type {\n",
       "        vertical-align: middle;\n",
       "    }\n",
       "\n",
       "    .dataframe tbody tr th {\n",
       "        vertical-align: top;\n",
       "    }\n",
       "\n",
       "    .dataframe thead th {\n",
       "        text-align: right;\n",
       "    }\n",
       "</style>\n",
       "<table border=\"1\" class=\"dataframe\">\n",
       "  <thead>\n",
       "    <tr style=\"text-align: right;\">\n",
       "      <th></th>\n",
       "      <th>visitorid</th>\n",
       "      <th>itemid</th>\n",
       "      <th>event</th>\n",
       "    </tr>\n",
       "  </thead>\n",
       "  <tbody>\n",
       "    <tr>\n",
       "      <th>0</th>\n",
       "      <td>6</td>\n",
       "      <td>65273</td>\n",
       "      <td>2</td>\n",
       "    </tr>\n",
       "    <tr>\n",
       "      <th>1</th>\n",
       "      <td>6</td>\n",
       "      <td>253615</td>\n",
       "      <td>1</td>\n",
       "    </tr>\n",
       "    <tr>\n",
       "      <th>2</th>\n",
       "      <td>6</td>\n",
       "      <td>344723</td>\n",
       "      <td>1</td>\n",
       "    </tr>\n",
       "    <tr>\n",
       "      <th>3</th>\n",
       "      <td>29</td>\n",
       "      <td>299118</td>\n",
       "      <td>1</td>\n",
       "    </tr>\n",
       "    <tr>\n",
       "      <th>4</th>\n",
       "      <td>80</td>\n",
       "      <td>458747</td>\n",
       "      <td>1</td>\n",
       "    </tr>\n",
       "  </tbody>\n",
       "</table>\n",
       "</div>"
      ],
      "text/plain": [
       "   visitorid  itemid  event\n",
       "0          6   65273      2\n",
       "1          6  253615      1\n",
       "2          6  344723      1\n",
       "3         29  299118      1\n",
       "4         80  458747      1"
      ]
     },
     "execution_count": 26,
     "metadata": {},
     "output_type": "execute_result"
    }
   ],
   "source": [
    "correct_interactions.head()"
   ]
  },
  {
   "cell_type": "markdown",
   "metadata": {},
   "source": [
    "prepare dict with correct interactions"
   ]
  },
  {
   "cell_type": "code",
   "execution_count": 27,
   "metadata": {},
   "outputs": [],
   "source": [
    "correct = {}\n",
    "for visitor in correct_interactions['visitorid'].unique():\n",
    "    d = {r['itemid']: r['event']\n",
    "         for _, r in correct_interactions[correct_interactions['visitorid'] == visitor].iterrows()}\n",
    "    correct[visitor] = d"
   ]
  },
  {
   "cell_type": "markdown",
   "metadata": {},
   "source": [
    "filter for cold users"
   ]
  },
  {
   "cell_type": "code",
   "execution_count": 28,
   "metadata": {},
   "outputs": [],
   "source": [
    "cold_correct = {u: i for u, i in correct.items() if u in cold_test_users}"
   ]
  },
  {
   "cell_type": "code",
   "execution_count": 29,
   "metadata": {},
   "outputs": [
    {
     "data": {
      "text/plain": [
       "0.013300723013813397"
      ]
     },
     "execution_count": 29,
     "metadata": {},
     "output_type": "execute_result"
    }
   ],
   "source": [
    "mDCG(cold_correct, cold_recoms_most_rated)"
   ]
  },
  {
   "cell_type": "code",
   "execution_count": 30,
   "metadata": {},
   "outputs": [
    {
     "data": {
      "text/plain": [
       "0.007267581145842816"
      ]
     },
     "execution_count": 30,
     "metadata": {},
     "output_type": "execute_result"
    }
   ],
   "source": [
    "mDCG(cold_correct, cold_recoms_most_rated_shuffled)"
   ]
  },
  {
   "cell_type": "markdown",
   "metadata": {},
   "source": [
    "better recommend most rated items"
   ]
  },
  {
   "cell_type": "code",
   "execution_count": 31,
   "metadata": {},
   "outputs": [
    {
     "data": {
      "text/plain": [
       "1.1532303120929191e-05"
      ]
     },
     "execution_count": 31,
     "metadata": {},
     "output_type": "execute_result"
    }
   ],
   "source": [
    "mDCG(cold_correct, cold_recoms_latest)"
   ]
  },
  {
   "cell_type": "code",
   "execution_count": 32,
   "metadata": {},
   "outputs": [
    {
     "data": {
      "text/plain": [
       "1.5066526458730882e-05"
      ]
     },
     "execution_count": 32,
     "metadata": {},
     "output_type": "execute_result"
    }
   ],
   "source": [
    "mDCG(cold_correct, cold_recoms_latest_shuffled)"
   ]
  },
  {
   "cell_type": "markdown",
   "metadata": {},
   "source": [
    "as we see, latest would not be very popular for users"
   ]
  },
  {
   "cell_type": "markdown",
   "metadata": {},
   "source": [
    "Now lets test mixed variant\n",
    "\n",
    "according to low matric for latest items, I will use only 10 latest items in recommendation list"
   ]
  },
  {
   "cell_type": "code",
   "execution_count": 33,
   "metadata": {},
   "outputs": [],
   "source": [
    "items_to_recom = items_scores[:90]['itemid'].values\n",
    "latest_items = np.array(events.groupby(\n",
    "    'visitorid').timestamp.max().sort_values(ascending=False)[:50].index)\n",
    "\n",
    "cold_recoms_mixed = {}\n",
    "for user in cold_test_users:\n",
    "    np.random.shuffle(latest_items)\n",
    "    mixed = np.append(items_to_recom, latest_items[:10])\n",
    "    np.random.shuffle(mixed)\n",
    "    cold_recoms_mixed[user] = tuple(mixed)"
   ]
  },
  {
   "cell_type": "code",
   "execution_count": 34,
   "metadata": {},
   "outputs": [
    {
     "data": {
      "text/plain": [
       "0.007273511853174171"
      ]
     },
     "execution_count": 34,
     "metadata": {},
     "output_type": "execute_result"
    }
   ],
   "source": [
    "mDCG(cold_correct, cold_recoms_mixed)"
   ]
  },
  {
   "cell_type": "markdown",
   "metadata": {},
   "source": [
    "Best way to to handle cold users is to recommend items with top scores after shuffling"
   ]
  },
  {
   "cell_type": "markdown",
   "metadata": {},
   "source": [
    "# users with history"
   ]
  },
  {
   "cell_type": "markdown",
   "metadata": {},
   "source": [
    "To make recommendations for users with history we have to compare different algorythms, for example:\n",
    "\n",
    "1. covisits - for current user, we will recom items that was most popular for users who also check the same items (as current user) during 1 session. This easy approach also can help with cold users, but unfortunately we can use it when we know at least 1 interaction in current user session. It doesnt work for main page and we need to define what is user session, and it is duration.\n",
    "\n",
    "2. CF - collaborative filtering methods, I this this approach is suitable for this case. Realizations like ALS(pyspark), LightFM(from my exeriance this lib works pretty well, and now we have not so huge dataset to use pyspark)\n",
    "\n",
    "3. NN - Neural networks (recurrent RNN), from latest articles I know that for now NN algs for Recom task could not beat classic algs like MF, and it takes to much time to retrain, but we have to do this pretty often.\n",
    "\n",
    "4. Supervised learning - when we know user features and triing to predict future actions, here I cant extract any feature.\n",
    "\n",
    "5. Markov chains - very interesting approach, and this one would be the second for testing (not implemented here)\n",
    "\n",
    "so here I will use LightFM, in future we can use, item/users features, extrct item/user embeddings to use for new items or users"
   ]
  },
  {
   "cell_type": "code",
   "execution_count": 35,
   "metadata": {},
   "outputs": [],
   "source": [
    "model = LightFM(no_components=10)"
   ]
  },
  {
   "cell_type": "code",
   "execution_count": 36,
   "metadata": {},
   "outputs": [],
   "source": [
    "train_df = train_df[['visitorid', 'itemid', 'event']].rename(columns={\n",
    "                                                             'event': 'val'})"
   ]
  },
  {
   "cell_type": "markdown",
   "metadata": {},
   "source": [
    "make dict with encoded and decoded user/item ids"
   ]
  },
  {
   "cell_type": "code",
   "execution_count": 37,
   "metadata": {},
   "outputs": [],
   "source": [
    "user_encode = {u: i for i, u in enumerate(train_df['visitorid'].unique())}\n",
    "item_encode = {u: i for i, u in enumerate(train_df['itemid'].unique())}"
   ]
  },
  {
   "cell_type": "code",
   "execution_count": 38,
   "metadata": {},
   "outputs": [],
   "source": [
    "user_decode = {v: k for k, v in user_encode.items()}\n",
    "item_decode = {v: k for k, v in item_encode.items()}"
   ]
  },
  {
   "cell_type": "code",
   "execution_count": 39,
   "metadata": {},
   "outputs": [
    {
     "data": {
      "text/plain": [
       "(50414, 78403)"
      ]
     },
     "execution_count": 39,
     "metadata": {},
     "output_type": "execute_result"
    }
   ],
   "source": [
    "n_users, n_items = len(user_encode), len(item_encode)\n",
    "\n",
    "n_users, n_items"
   ]
  },
  {
   "cell_type": "code",
   "execution_count": 40,
   "metadata": {},
   "outputs": [],
   "source": [
    "train_df['visitorid'] = train_df['visitorid'].apply(lambda x: user_encode[x])\n",
    "\n",
    "train_df['itemid'] = train_df['itemid'].apply(lambda x: item_encode[x])"
   ]
  },
  {
   "cell_type": "code",
   "execution_count": 41,
   "metadata": {},
   "outputs": [],
   "source": [
    "train_coo = coo_matrix(\n",
    "    (train_df['val'], (train_df['visitorid'], train_df['itemid'])), shape=(n_users, n_items))"
   ]
  },
  {
   "cell_type": "markdown",
   "metadata": {},
   "source": [
    "define users and items for scoreng"
   ]
  },
  {
   "cell_type": "code",
   "execution_count": 42,
   "metadata": {},
   "outputs": [],
   "source": [
    "users_to_predict = [user_encode[x] for x in warm_test_users]\n",
    "items_to_predict = [item_encode[x] for x in items_to_recom]"
   ]
  },
  {
   "cell_type": "markdown",
   "metadata": {},
   "source": [
    "train model"
   ]
  },
  {
   "cell_type": "code",
   "execution_count": 43,
   "metadata": {},
   "outputs": [
    {
     "data": {
      "text/plain": [
       "<lightfm.lightfm.LightFM at 0x11bea8110>"
      ]
     },
     "execution_count": 43,
     "metadata": {},
     "output_type": "execute_result"
    }
   ],
   "source": [
    "model.fit(train_coo, epochs=5)"
   ]
  },
  {
   "cell_type": "code",
   "execution_count": 44,
   "metadata": {},
   "outputs": [],
   "source": [
    "recoms = {}\n",
    "num_to_recom = 100\n",
    "for user in users_to_predict:\n",
    "    predict = model.predict(user, items_to_predict, num_threads=-1)\n",
    "    top_recoms_id = sorted(range(len(predict)),\n",
    "                           key=lambda i: predict[i])[-num_to_recom:]\n",
    "    top_recoms_id.reverse()\n",
    "    recoms[user_decode[user]] = [item_decode[items_to_predict[i]]\n",
    "                                 for i in top_recoms_id]"
   ]
  },
  {
   "cell_type": "code",
   "execution_count": 45,
   "metadata": {},
   "outputs": [],
   "source": [
    "warm_correct = {u: i for u, i in correct.items() if u in warm_test_users}"
   ]
  },
  {
   "cell_type": "code",
   "execution_count": 46,
   "metadata": {},
   "outputs": [
    {
     "data": {
      "text/plain": [
       "0.03371368666558496"
      ]
     },
     "execution_count": 46,
     "metadata": {},
     "output_type": "execute_result"
    }
   ],
   "source": [
    "mDCG(warm_correct, recoms)"
   ]
  },
  {
   "cell_type": "markdown",
   "metadata": {},
   "source": [
    "It is nice, that here here we have better metric))"
   ]
  },
  {
   "cell_type": "markdown",
   "metadata": {},
   "source": [
    "# tune hyperparams"
   ]
  },
  {
   "cell_type": "code",
   "execution_count": 91,
   "metadata": {},
   "outputs": [
    {
     "name": "stdout",
     "output_type": "stream",
     "text": [
      "hyperparams set: {'no_components': 52, 'learning_schedule': 'adagrad', 'loss': 'bpr', 'learning_rate': 0.07949959441563276, 'num_epochs': 6}\n",
      "0.08579625609698624\n",
      "hyperparams set: {'no_components': 16, 'learning_schedule': 'adagrad', 'loss': 'warp', 'learning_rate': 0.0023025505836894015, 'num_epochs': 13}\n",
      "0.050663491196277805\n",
      "hyperparams set: {'no_components': 21, 'learning_schedule': 'adagrad', 'loss': 'warp-kos', 'learning_rate': 0.01382623788509415, 'num_epochs': 29}\n",
      "0.06291092523658173\n",
      "hyperparams set: {'no_components': 56, 'learning_schedule': 'adadelta', 'loss': 'warp', 'learning_rate': 0.07971357065071046, 'num_epochs': 29}\n",
      "0.08383368598603667\n",
      "hyperparams set: {'no_components': 37, 'learning_schedule': 'adagrad', 'loss': 'warp', 'learning_rate': 0.03240679092075815, 'num_epochs': 15}\n",
      "0.0834321986423992\n",
      "hyperparams set: {'no_components': 46, 'learning_schedule': 'adadelta', 'loss': 'warp-kos', 'learning_rate': 0.08276514765049861, 'num_epochs': 19}\n",
      "0.08262282947170363\n",
      "hyperparams set: {'no_components': 36, 'learning_schedule': 'adagrad', 'loss': 'warp', 'learning_rate': 0.11261612039400924, 'num_epochs': 18}\n",
      "0.07197003483092482\n",
      "hyperparams set: {'no_components': 17, 'learning_schedule': 'adagrad', 'loss': 'bpr', 'learning_rate': 0.020301312750920942, 'num_epochs': 24}\n",
      "0.08028903911481917\n",
      "hyperparams set: {'no_components': 51, 'learning_schedule': 'adagrad', 'loss': 'warp-kos', 'learning_rate': 0.0665677730188075, 'num_epochs': 10}\n",
      "0.08138247588977802\n",
      "hyperparams set: {'no_components': 17, 'learning_schedule': 'adagrad', 'loss': 'bpr', 'learning_rate': 0.05268327303687597, 'num_epochs': 27}\n",
      "0.08366177227396125\n",
      "hyperparams set: {'no_components': 40, 'learning_schedule': 'adagrad', 'loss': 'warp-kos', 'learning_rate': 0.02322352280952893, 'num_epochs': 24}\n",
      "0.07637639626907636\n",
      "hyperparams set: {'no_components': 43, 'learning_schedule': 'adadelta', 'loss': 'warp-kos', 'learning_rate': 0.060346368274369955, 'num_epochs': 27}\n",
      "0.0806713402582922\n",
      "hyperparams set: {'no_components': 27, 'learning_schedule': 'adagrad', 'loss': 'warp', 'learning_rate': 0.004594889666052823, 'num_epochs': 11}\n",
      "0.06057502771045054\n",
      "hyperparams set: {'no_components': 30, 'learning_schedule': 'adadelta', 'loss': 'warp', 'learning_rate': 0.01550626688153377, 'num_epochs': 6}\n",
      "0.071937535529936\n",
      "hyperparams set: {'no_components': 51, 'learning_schedule': 'adadelta', 'loss': 'bpr', 'learning_rate': 0.1360764861823101, 'num_epochs': 16}\n",
      "0.08737919865674464\n",
      "hyperparams set: {'no_components': 37, 'learning_schedule': 'adadelta', 'loss': 'warp-kos', 'learning_rate': 0.16152579864898353, 'num_epochs': 11}\n",
      "0.07671271377985918\n",
      "hyperparams set: {'no_components': 16, 'learning_schedule': 'adagrad', 'loss': 'bpr', 'learning_rate': 0.027955349005219184, 'num_epochs': 7}\n",
      "0.06636662253870924\n",
      "hyperparams set: {'no_components': 56, 'learning_schedule': 'adagrad', 'loss': 'warp-kos', 'learning_rate': 0.01980911959947129, 'num_epochs': 13}\n",
      "0.07468703292902638\n",
      "hyperparams set: {'no_components': 47, 'learning_schedule': 'adadelta', 'loss': 'warp-kos', 'learning_rate': 0.014155201168434873, 'num_epochs': 25}\n",
      "0.08007268102764159\n",
      "hyperparams set: {'no_components': 23, 'learning_schedule': 'adagrad', 'loss': 'warp', 'learning_rate': 0.027971603692160858, 'num_epochs': 14}\n",
      "0.0839694014806365\n",
      "Best score 0.08737919865674464 at {'no_components': 51, 'learning_schedule': 'adadelta', 'loss': 'bpr', 'learning_rate': 0.1360764861823101, 'num_epochs': 16}, takes 0:00:47.020593\n"
     ]
    }
   ],
   "source": [
    "score, hyperparams, model, takes = max(random_search(\n",
    "    train_coo, warm_correct, num_threads=6), key=lambda x: x[0])\n",
    "\n",
    "print(\"Best score {} at {}, takes {}\".format(score, hyperparams, takes))"
   ]
  },
  {
   "cell_type": "markdown",
   "metadata": {},
   "source": [
    "# prediction"
   ]
  },
  {
   "cell_type": "code",
   "execution_count": 94,
   "metadata": {},
   "outputs": [],
   "source": [
    "users_to_pred = set(pred['visitorid'])"
   ]
  },
  {
   "cell_type": "markdown",
   "metadata": {},
   "source": [
    "update list of most popular items"
   ]
  },
  {
   "cell_type": "code",
   "execution_count": 95,
   "metadata": {},
   "outputs": [
    {
     "data": {
      "text/html": [
       "<div>\n",
       "<style scoped>\n",
       "    .dataframe tbody tr th:only-of-type {\n",
       "        vertical-align: middle;\n",
       "    }\n",
       "\n",
       "    .dataframe tbody tr th {\n",
       "        vertical-align: top;\n",
       "    }\n",
       "\n",
       "    .dataframe thead th {\n",
       "        text-align: right;\n",
       "    }\n",
       "</style>\n",
       "<table border=\"1\" class=\"dataframe\">\n",
       "  <thead>\n",
       "    <tr style=\"text-align: right;\">\n",
       "      <th></th>\n",
       "      <th>itemid</th>\n",
       "      <th>score</th>\n",
       "    </tr>\n",
       "  </thead>\n",
       "  <tbody>\n",
       "    <tr>\n",
       "      <th>220401</th>\n",
       "      <td>461686</td>\n",
       "      <td>2871</td>\n",
       "    </tr>\n",
       "    <tr>\n",
       "      <th>89839</th>\n",
       "      <td>187946</td>\n",
       "      <td>2691</td>\n",
       "    </tr>\n",
       "    <tr>\n",
       "      <th>2553</th>\n",
       "      <td>5411</td>\n",
       "      <td>2182</td>\n",
       "    </tr>\n",
       "    <tr>\n",
       "      <th>122797</th>\n",
       "      <td>257040</td>\n",
       "      <td>1785</td>\n",
       "    </tr>\n",
       "    <tr>\n",
       "      <th>177016</th>\n",
       "      <td>370653</td>\n",
       "      <td>1732</td>\n",
       "    </tr>\n",
       "  </tbody>\n",
       "</table>\n",
       "</div>"
      ],
      "text/plain": [
       "        itemid  score\n",
       "220401  461686   2871\n",
       "89839   187946   2691\n",
       "2553      5411   2182\n",
       "122797  257040   1785\n",
       "177016  370653   1732"
      ]
     },
     "execution_count": 95,
     "metadata": {},
     "output_type": "execute_result"
    }
   ],
   "source": [
    "items_scores = events.groupby(['itemid', 'event'])['event'].count().reset_index(name='count')\n",
    "\n",
    "items_scores = items_scores.eval('score = event * count')\n",
    "\n",
    "items_scores = items_scores.groupby('itemid')['score'].sum().reset_index().sort_values('score', ascending = False)\n",
    "\n",
    "items_scores.head()"
   ]
  },
  {
   "cell_type": "markdown",
   "metadata": {},
   "source": [
    "retrain model on full dataset"
   ]
  },
  {
   "cell_type": "code",
   "execution_count": 96,
   "metadata": {},
   "outputs": [],
   "source": [
    "users_interactions = events['visitorid'].value_counts()\n",
    "\n",
    "active_users = set(users_interactions[users_interactions >= 5].index)\n",
    "\n",
    "train_df = events[events['visitorid'].isin(active_users)]"
   ]
  },
  {
   "cell_type": "code",
   "execution_count": 97,
   "metadata": {},
   "outputs": [],
   "source": [
    "num_epochs = hyperparams.pop('num_epochs')\n",
    "model = LightFM(**hyperparams)"
   ]
  },
  {
   "cell_type": "code",
   "execution_count": 98,
   "metadata": {},
   "outputs": [],
   "source": [
    "train_df = train_df[['visitorid', 'itemid', 'event']].rename(columns={\n",
    "                                                             'event': 'val'})"
   ]
  },
  {
   "cell_type": "code",
   "execution_count": 99,
   "metadata": {},
   "outputs": [],
   "source": [
    "user_encode = {u: i for i, u in enumerate(train_df['visitorid'].unique())}\n",
    "item_encode = {u: i for i, u in enumerate(train_df['itemid'].unique())}"
   ]
  },
  {
   "cell_type": "code",
   "execution_count": 100,
   "metadata": {},
   "outputs": [],
   "source": [
    "user_decode = {v: k for k, v in user_encode.items()}\n",
    "item_decode = {v: k for k, v in item_encode.items()}"
   ]
  },
  {
   "cell_type": "code",
   "execution_count": 101,
   "metadata": {},
   "outputs": [
    {
     "data": {
      "text/plain": [
       "(72804, 96589)"
      ]
     },
     "execution_count": 101,
     "metadata": {},
     "output_type": "execute_result"
    }
   ],
   "source": [
    "n_users, n_items = len(user_encode), len(item_encode)\n",
    "\n",
    "n_users, n_items"
   ]
  },
  {
   "cell_type": "code",
   "execution_count": 102,
   "metadata": {},
   "outputs": [],
   "source": [
    "train_df['visitorid'] = train_df['visitorid'].apply(lambda x: user_encode[x])\n",
    "\n",
    "train_df['itemid'] = train_df['itemid'].apply(lambda x: item_encode[x])"
   ]
  },
  {
   "cell_type": "code",
   "execution_count": 103,
   "metadata": {},
   "outputs": [],
   "source": [
    "train_coo = coo_matrix(\n",
    "    (train_df['val'], (train_df['visitorid'], train_df['itemid'])), shape=(n_users, n_items))"
   ]
  },
  {
   "cell_type": "code",
   "execution_count": 104,
   "metadata": {},
   "outputs": [],
   "source": [
    "items_to_recom = items_scores[:200]['itemid'].values\n",
    "warm_users = users_to_pred.intersection(active_users)\n",
    "cold_users = users_to_pred.difference(active_users)"
   ]
  },
  {
   "cell_type": "code",
   "execution_count": 105,
   "metadata": {},
   "outputs": [],
   "source": [
    "users_to_predict = [user_encode[x] for x in warm_users]\n",
    "items_to_predict = [item_encode[x] for x in items_to_recom]"
   ]
  },
  {
   "cell_type": "code",
   "execution_count": 106,
   "metadata": {},
   "outputs": [
    {
     "data": {
      "text/plain": [
       "<lightfm.lightfm.LightFM at 0x119fce290>"
      ]
     },
     "execution_count": 106,
     "metadata": {},
     "output_type": "execute_result"
    }
   ],
   "source": [
    "model.fit(train_coo, epochs = num_epochs)"
   ]
  },
  {
   "cell_type": "code",
   "execution_count": 107,
   "metadata": {},
   "outputs": [],
   "source": [
    "recoms = {}\n",
    "num_to_recom = 100\n",
    "for user in users_to_predict:\n",
    "    predict = model.predict(user, items_to_predict, num_threads = -1)\n",
    "    top_recoms_id = sorted(range(len(predict)), key=lambda i: predict[i])[-num_to_recom:]\n",
    "    top_recoms_id.reverse()\n",
    "    recoms[user_decode[user]] = [item_decode[items_to_predict[i]] for i in top_recoms_id]"
   ]
  },
  {
   "cell_type": "markdown",
   "metadata": {},
   "source": [
    "recom to cold users"
   ]
  },
  {
   "cell_type": "code",
   "execution_count": 108,
   "metadata": {},
   "outputs": [],
   "source": [
    "items_to_recom = items_scores[:100]['itemid'].values\n",
    "for user in cold_users:\n",
    "    recoms[user] = tuple(items_to_recom)"
   ]
  },
  {
   "cell_type": "markdown",
   "metadata": {},
   "source": [
    "# save predictions"
   ]
  },
  {
   "cell_type": "code",
   "execution_count": 109,
   "metadata": {},
   "outputs": [],
   "source": [
    "predictions = pd.DataFrame(recoms)\n",
    "\n",
    "predictions = predictions.T\n",
    "\n",
    "predictions.columns = ['item_' + str(i) for i in range(100)]\n",
    "\n",
    "predictions = predictions.reset_index().rename(columns={'index': 'visitorid'})"
   ]
  },
  {
   "cell_type": "code",
   "execution_count": 110,
   "metadata": {},
   "outputs": [
    {
     "data": {
      "text/html": [
       "<div>\n",
       "<style scoped>\n",
       "    .dataframe tbody tr th:only-of-type {\n",
       "        vertical-align: middle;\n",
       "    }\n",
       "\n",
       "    .dataframe tbody tr th {\n",
       "        vertical-align: top;\n",
       "    }\n",
       "\n",
       "    .dataframe thead th {\n",
       "        text-align: right;\n",
       "    }\n",
       "</style>\n",
       "<table border=\"1\" class=\"dataframe\">\n",
       "  <thead>\n",
       "    <tr style=\"text-align: right;\">\n",
       "      <th></th>\n",
       "      <th>visitorid</th>\n",
       "      <th>item_0</th>\n",
       "      <th>item_1</th>\n",
       "      <th>item_2</th>\n",
       "      <th>item_3</th>\n",
       "      <th>item_4</th>\n",
       "      <th>item_5</th>\n",
       "      <th>item_6</th>\n",
       "      <th>item_7</th>\n",
       "      <th>item_8</th>\n",
       "      <th>...</th>\n",
       "      <th>item_90</th>\n",
       "      <th>item_91</th>\n",
       "      <th>item_92</th>\n",
       "      <th>item_93</th>\n",
       "      <th>item_94</th>\n",
       "      <th>item_95</th>\n",
       "      <th>item_96</th>\n",
       "      <th>item_97</th>\n",
       "      <th>item_98</th>\n",
       "      <th>item_99</th>\n",
       "    </tr>\n",
       "  </thead>\n",
       "  <tbody>\n",
       "    <tr>\n",
       "      <th>0</th>\n",
       "      <td>819206</td>\n",
       "      <td>290250</td>\n",
       "      <td>209994</td>\n",
       "      <td>232509</td>\n",
       "      <td>260650</td>\n",
       "      <td>449571</td>\n",
       "      <td>194791</td>\n",
       "      <td>390591</td>\n",
       "      <td>15948</td>\n",
       "      <td>225778</td>\n",
       "      <td>...</td>\n",
       "      <td>316753</td>\n",
       "      <td>11279</td>\n",
       "      <td>100282</td>\n",
       "      <td>338660</td>\n",
       "      <td>432152</td>\n",
       "      <td>298009</td>\n",
       "      <td>213834</td>\n",
       "      <td>161623</td>\n",
       "      <td>394678</td>\n",
       "      <td>4001</td>\n",
       "    </tr>\n",
       "    <tr>\n",
       "      <th>1</th>\n",
       "      <td>262151</td>\n",
       "      <td>209994</td>\n",
       "      <td>290250</td>\n",
       "      <td>180751</td>\n",
       "      <td>82389</td>\n",
       "      <td>192875</td>\n",
       "      <td>316779</td>\n",
       "      <td>390591</td>\n",
       "      <td>194791</td>\n",
       "      <td>228392</td>\n",
       "      <td>...</td>\n",
       "      <td>359491</td>\n",
       "      <td>316753</td>\n",
       "      <td>243355</td>\n",
       "      <td>219512</td>\n",
       "      <td>298009</td>\n",
       "      <td>159822</td>\n",
       "      <td>218794</td>\n",
       "      <td>442131</td>\n",
       "      <td>138427</td>\n",
       "      <td>215715</td>\n",
       "    </tr>\n",
       "    <tr>\n",
       "      <th>2</th>\n",
       "      <td>720903</td>\n",
       "      <td>416017</td>\n",
       "      <td>62549</td>\n",
       "      <td>209994</td>\n",
       "      <td>194791</td>\n",
       "      <td>29196</td>\n",
       "      <td>101845</td>\n",
       "      <td>66752</td>\n",
       "      <td>213834</td>\n",
       "      <td>312728</td>\n",
       "      <td>...</td>\n",
       "      <td>355994</td>\n",
       "      <td>180751</td>\n",
       "      <td>210087</td>\n",
       "      <td>216305</td>\n",
       "      <td>445351</td>\n",
       "      <td>15948</td>\n",
       "      <td>393111</td>\n",
       "      <td>441852</td>\n",
       "      <td>320130</td>\n",
       "      <td>286731</td>\n",
       "    </tr>\n",
       "    <tr>\n",
       "      <th>3</th>\n",
       "      <td>229383</td>\n",
       "      <td>315543</td>\n",
       "      <td>15948</td>\n",
       "      <td>5411</td>\n",
       "      <td>290250</td>\n",
       "      <td>447661</td>\n",
       "      <td>445749</td>\n",
       "      <td>316779</td>\n",
       "      <td>194791</td>\n",
       "      <td>115323</td>\n",
       "      <td>...</td>\n",
       "      <td>111530</td>\n",
       "      <td>315545</td>\n",
       "      <td>243980</td>\n",
       "      <td>432152</td>\n",
       "      <td>299677</td>\n",
       "      <td>29100</td>\n",
       "      <td>441852</td>\n",
       "      <td>400946</td>\n",
       "      <td>46156</td>\n",
       "      <td>142466</td>\n",
       "    </tr>\n",
       "    <tr>\n",
       "      <th>4</th>\n",
       "      <td>1269770</td>\n",
       "      <td>225778</td>\n",
       "      <td>151444</td>\n",
       "      <td>209994</td>\n",
       "      <td>290250</td>\n",
       "      <td>101845</td>\n",
       "      <td>260317</td>\n",
       "      <td>429094</td>\n",
       "      <td>232509</td>\n",
       "      <td>394678</td>\n",
       "      <td>...</td>\n",
       "      <td>112782</td>\n",
       "      <td>204494</td>\n",
       "      <td>133907</td>\n",
       "      <td>449912</td>\n",
       "      <td>180751</td>\n",
       "      <td>222888</td>\n",
       "      <td>342530</td>\n",
       "      <td>215715</td>\n",
       "      <td>272455</td>\n",
       "      <td>389158</td>\n",
       "    </tr>\n",
       "  </tbody>\n",
       "</table>\n",
       "<p>5 rows × 101 columns</p>\n",
       "</div>"
      ],
      "text/plain": [
       "   visitorid  item_0  item_1  item_2  item_3  item_4  item_5  item_6  item_7  \\\n",
       "0     819206  290250  209994  232509  260650  449571  194791  390591   15948   \n",
       "1     262151  209994  290250  180751   82389  192875  316779  390591  194791   \n",
       "2     720903  416017   62549  209994  194791   29196  101845   66752  213834   \n",
       "3     229383  315543   15948    5411  290250  447661  445749  316779  194791   \n",
       "4    1269770  225778  151444  209994  290250  101845  260317  429094  232509   \n",
       "\n",
       "   item_8  ...  item_90  item_91  item_92  item_93  item_94  item_95  item_96  \\\n",
       "0  225778  ...   316753    11279   100282   338660   432152   298009   213834   \n",
       "1  228392  ...   359491   316753   243355   219512   298009   159822   218794   \n",
       "2  312728  ...   355994   180751   210087   216305   445351    15948   393111   \n",
       "3  115323  ...   111530   315545   243980   432152   299677    29100   441852   \n",
       "4  394678  ...   112782   204494   133907   449912   180751   222888   342530   \n",
       "\n",
       "   item_97  item_98  item_99  \n",
       "0   161623   394678     4001  \n",
       "1   442131   138427   215715  \n",
       "2   441852   320130   286731  \n",
       "3   400946    46156   142466  \n",
       "4   215715   272455   389158  \n",
       "\n",
       "[5 rows x 101 columns]"
      ]
     },
     "execution_count": 110,
     "metadata": {},
     "output_type": "execute_result"
    }
   ],
   "source": [
    "predictions.head()"
   ]
  },
  {
   "cell_type": "markdown",
   "metadata": {},
   "source": [
    "save all recommendations"
   ]
  },
  {
   "cell_type": "code",
   "execution_count": 113,
   "metadata": {},
   "outputs": [],
   "source": [
    "predictions.to_csv(PATH + 'data/processed/recommendations.csv', index=False)"
   ]
  },
  {
   "cell_type": "markdown",
   "metadata": {},
   "source": [
    "save most rated items for cold users"
   ]
  },
  {
   "cell_type": "code",
   "execution_count": 72,
   "metadata": {},
   "outputs": [],
   "source": [
    "items_to_recom = items_scores[:100]['itemid'].values\n",
    "\n",
    "save_to_pickle(items_to_recom.tolist(), PATH + 'data/processed/most_rated.pickle')"
   ]
  },
  {
   "cell_type": "markdown",
   "metadata": {},
   "source": [
    "# future steps\n",
    "\n",
    "1. definately work with item/user features, add them to lightFM model\n",
    "2. mix model prediction, top rated, latest items \n",
    "3. use current user interaction to take them into account (like also mixing covisit alg with precalculated recommendations)\n",
    "4. take into account trend (add multiplier for predicted scores based on how much item was bought during last perion, week or day for example)\n",
    "5. Build Markov chain model to find best(lonegst) items path for users."
   ]
  }
 ],
 "metadata": {
  "kernelspec": {
   "display_name": "Python 3",
   "language": "python",
   "name": "python3"
  },
  "language_info": {
   "codemirror_mode": {
    "name": "ipython",
    "version": 3
   },
   "file_extension": ".py",
   "mimetype": "text/x-python",
   "name": "python",
   "nbconvert_exporter": "python",
   "pygments_lexer": "ipython3",
   "version": "3.7.7"
  }
 },
 "nbformat": 4,
 "nbformat_minor": 4
}
